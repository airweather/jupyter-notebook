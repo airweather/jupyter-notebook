{
  "cells": [
    {
      "cell_type": "markdown",
      "metadata": {
        "id": "view-in-github",
        "colab_type": "text"
      },
      "source": [
        "<a href=\"https://colab.research.google.com/github/airweather/jupyter-notebook/blob/main/1.ipynb\" target=\"_parent\"><img src=\"https://colab.research.google.com/assets/colab-badge.svg\" alt=\"Open In Colab\"/></a>"
      ]
    },
    {
      "cell_type": "markdown",
      "metadata": {
        "id": "P1Yq_uFrfdM4"
      },
      "source": [
        "[1] 필요한 패키지 불러오기"
      ]
    },
    {
      "cell_type": "markdown",
      "source": [],
      "metadata": {
        "id": "zX75-G1Nvkh7"
      }
    },
    {
      "cell_type": "code",
      "execution_count": null,
      "metadata": {
        "id": "gnDszLNGfdM6"
      },
      "outputs": [],
      "source": [
        "import matplotlib.pyplot as plt\n",
        "import numpy as np\n",
        "from sklearn.datasets import load_iris"
      ]
    },
    {
      "cell_type": "markdown",
      "metadata": {
        "id": "DGF3jf_bfdM7"
      },
      "source": [
        "[2] 데이터 준비 함수 정의하기"
      ]
    },
    {
      "cell_type": "code",
      "execution_count": null,
      "metadata": {
        "id": "l38qPX89fdM7"
      },
      "outputs": [],
      "source": [
        "def prepare_data(N):\n",
        "    # N : 학습표본의 수\n",
        "    # 클래스 0의 평균 좌표 : (1, 2)\n",
        "    # 클래스 1의 평균 좌표 : (2, 1)\n",
        "    C = np.array([[1, 2], [2, 1]])\n",
        "    X = []\n",
        "    y = []\n",
        "    rnd = np.random.default_rng()\n",
        "    # 각 클래스의 평균 좌표에 무작위 값을 더하여 학습표본 집합 생성\n",
        "    for i in range(N):\n",
        "      j = rnd.interger(0, 2)\n",
        "      x = np.array(rnd.normal(loc=0.0, scale=0.2, size=2)) + C[j]\n",
        "      X.append(x)\n",
        "      y.append(j)\n",
        "\n",
        "    print(np.array(X), np.array(y))\n",
        "    return np.array(X), np.array(y), ['0', '1']"
      ]
    },
    {
      "cell_type": "markdown",
      "metadata": {
        "id": "OUnzbQvXfdM8"
      },
      "source": [
        "[3] 활성함수 - 단위 계단 함수"
      ]
    },
    {
      "cell_type": "code",
      "execution_count": null,
      "metadata": {
        "id": "hPykuggffdM8"
      },
      "outputs": [],
      "source": [
        "def step(x):\n",
        "    return int(x >= 0)"
      ]
    },
    {
      "cell_type": "markdown",
      "metadata": {
        "id": "kpZLhU59fdM8"
      },
      "source": [
        "[4] 퍼셉트론 클래스 선언"
      ]
    },
    {
      "cell_type": "code",
      "execution_count": null,
      "metadata": {
        "id": "6NYerXSdfdM8"
      },
      "outputs": [],
      "source": [
        "class Perceptron():\n",
        "    def __init__(self, dim, activation):\n",
        "        rnd = np.random.default_rng()\n",
        "        self.dim = dim\n",
        "        self.activation = activation\n",
        "        # 가중치(w)와 바이어스(b)를 He normal 방식으로 초기화\n",
        "        self.w = rnd.normal(scale = np.sqrt(2.0 / dim), size=dim)\n",
        "        self.b = rnd.normal(scale = np.sqrt(2.0 / dim))\n",
        "\n",
        "    def printW(self):\n",
        "        for i in range(self.dim):\n",
        "            print('  w{} = {:6.3f}'.format(i+1, self.w[i]), end='')\n",
        "        print('  b = {:6.3f}'.format(self.b))\n",
        "\n",
        "    def predict(self, x):  # numpy 배열 x에 저장된 표본의 출력 계산\n",
        "        return np.array([self.activation(np.dot(self.w, x[i]) + self.b)\n",
        "                          for i in range(len(x))])\n",
        "\n",
        "    def fit(self, X, y, N, epochs, eta=0.01):\n",
        "        # 학습표본의 인덱스를 무작위 순서로 섞음\n",
        "        idx = list(range(N))\n",
        "        np.random.shuffle(idx)\n",
        "        X = np.array([X[idx[i]] for i in range(N)])\n",
        "        y = np.array([y[idx[i]] for i in range(N)])\n",
        "\n",
        "        f = 'Epochs = {:4d}    Loss = {:8.5f}'\n",
        "        print('w의 초깃값  ', end='')\n",
        "        self.printW()\n",
        "        for j in range(epochs):\n",
        "            for i in range(N):\n",
        "                # x[i]에 대한 출력 오차 계산\n",
        "                delta = self.predict([X[i]])[0] - y[i]\n",
        "                self.w -= eta * delta * X[i]\n",
        "                self.b -= eta * delta\n",
        "            # 학습 과정 출력\n",
        "            if j < 10 or (j+1) % 100 == 0:\n",
        "                loss = self.predict(X) - y\n",
        "                loss = (loss * loss).sum() / N\n",
        "                print(f.format(j+1, loss), end='')\n",
        "                self.printW()"
      ]
    },
    {
      "cell_type": "markdown",
      "metadata": {
        "id": "uzwv_rGafdM9"
      },
      "source": [
        "[5] 퍼셉트론의 분류 결과 시각화"
      ]
    },
    {
      "cell_type": "code",
      "execution_count": null,
      "metadata": {
        "id": "uW8jYrDMfdM9"
      },
      "outputs": [],
      "source": [
        "def visualize(net, X, y, multi_class, labels, class_id, colors,\n",
        "               xlabel, ylabel, legend_loc='lower right'):\n",
        "    # 데이터의 최소~최대 범위를 0.05 간격의 좌표값으로 나열\n",
        "    x_max = np.ceil(np.max(X[:, 0])).astype(int)\n",
        "    x_min = np.floor(np.min(X[:, 0])).astype(int)\n",
        "    y_max = np.ceil(np.max(X[:, 1])).astype(int)\n",
        "    y_min = np.floor(np.min(X[:, 1])).astype(int)\n",
        "    x_lin = np.linspace(x_min, x_max, (x_max-x_min)*20+1)\n",
        "    y_lin = np.linspace(y_min, y_max, (y_max-y_min)*20+1)\n",
        "\n",
        "    # x_lin과 y_lin의 격자좌표의 x와 y 값 구하기\n",
        "    x_mesh, y_mesh = np.meshgrid(x_lin, y_lin)\n",
        "\n",
        "    # (x, y) 좌표의 배열로 만들어 신경망의 입력 구성\n",
        "    X_test = np.column_stack([x_mesh.ravel(), y_mesh.ravel()])\n",
        "\n",
        "    # 학습된 신경망으로 X_test에 대한 출력 계산\n",
        "    if multi_class:\n",
        "        y_hat = net.predict(X_test)\n",
        "        y_hat = np.array([np.argmax(y_hat[k])\n",
        "                            for k in range(len(y_hat))], dtype=int)\n",
        "    else:\n",
        "        y_hat = (net.predict(X_test) >= 0.5).astype(int)\n",
        "        y_hat = y_hat.reshape(len(y_hat))\n",
        "\n",
        "    # 출력할 그래프의 수평/수직 범위 설정\n",
        "    plt.xlim(x_min, x_max)\n",
        "    plt.ylim(y_min, y_max)\n",
        "\n",
        "    # 클래스별로 산점도 그리기\n",
        "    for c, i, c_name in zip(colors, labels, class_id):\n",
        "        # 격자 좌표의 클래스별 산점도\n",
        "        plt.scatter(X_test[y_hat == i, 0], X_test[y_hat == i, 1],\n",
        "                     c = c, s = 5, alpha = 0.3, edgecolors = 'none')\n",
        "        # 학습 표본의 클래스별 산점도\n",
        "        plt.scatter(X[y == i, 0], X[y == i, 1],\n",
        "                     c = c, s = 20, label=c_name)\n",
        "    # 범례의 표시 위치 지정\n",
        "    plt.legend(loc=legend_loc)\n",
        "    # x축과 y축의 레이블을 지정한 후 그래프 출력\n",
        "    plt.xlabel(xlabel, size=12)\n",
        "    plt.ylabel(ylabel, size=12)\n",
        "    plt.show()"
      ]
    },
    {
      "cell_type": "markdown",
      "metadata": {
        "id": "Y9jiKA8qfdM-"
      },
      "source": [
        "[6] 훈련 데이터 준비하기"
      ]
    },
    {
      "cell_type": "code",
      "execution_count": null,
      "metadata": {
        "id": "3Mk5K1IzfdM-",
        "colab": {
          "base_uri": "https://localhost:8080/",
          "height": 349
        },
        "outputId": "4f5d5b0e-cbe6-46d2-90c0-2c3ea3f1c85a"
      },
      "outputs": [
        {
          "output_type": "error",
          "ename": "AttributeError",
          "evalue": "ignored",
          "traceback": [
            "\u001b[0;31m---------------------------------------------------------------------------\u001b[0m",
            "\u001b[0;31mAttributeError\u001b[0m                            Traceback (most recent call last)",
            "\u001b[0;32m<ipython-input-32-8290ff040e5a>\u001b[0m in \u001b[0;36m<cell line: 4>\u001b[0;34m()\u001b[0m\n\u001b[1;32m      2\u001b[0m \u001b[0mnDim\u001b[0m \u001b[0;34m=\u001b[0m \u001b[0;36m2\u001b[0m\u001b[0;34m\u001b[0m\u001b[0;34m\u001b[0m\u001b[0m\n\u001b[1;32m      3\u001b[0m \u001b[0mN\u001b[0m \u001b[0;34m=\u001b[0m \u001b[0;36m100\u001b[0m\u001b[0;34m\u001b[0m\u001b[0;34m\u001b[0m\u001b[0m\n\u001b[0;32m----> 4\u001b[0;31m \u001b[0mX_tr\u001b[0m\u001b[0;34m,\u001b[0m \u001b[0my_tr\u001b[0m\u001b[0;34m,\u001b[0m \u001b[0mlabels\u001b[0m \u001b[0;34m=\u001b[0m \u001b[0mprepare_data\u001b[0m\u001b[0;34m(\u001b[0m\u001b[0mN\u001b[0m\u001b[0;34m)\u001b[0m\u001b[0;34m\u001b[0m\u001b[0;34m\u001b[0m\u001b[0m\n\u001b[0m",
            "\u001b[0;32m<ipython-input-25-dd9ccf705b00>\u001b[0m in \u001b[0;36mprepare_data\u001b[0;34m(N)\u001b[0m\n\u001b[1;32m      9\u001b[0m     \u001b[0;31m# 각 클래스의 평균 좌표에 무작위 값을 더하여 학습표본 집합 생성\u001b[0m\u001b[0;34m\u001b[0m\u001b[0;34m\u001b[0m\u001b[0m\n\u001b[1;32m     10\u001b[0m     \u001b[0;32mfor\u001b[0m \u001b[0mi\u001b[0m \u001b[0;32min\u001b[0m \u001b[0mrange\u001b[0m\u001b[0;34m(\u001b[0m\u001b[0mN\u001b[0m\u001b[0;34m)\u001b[0m\u001b[0;34m:\u001b[0m\u001b[0;34m\u001b[0m\u001b[0;34m\u001b[0m\u001b[0m\n\u001b[0;32m---> 11\u001b[0;31m       \u001b[0mj\u001b[0m \u001b[0;34m=\u001b[0m \u001b[0mrnd\u001b[0m\u001b[0;34m.\u001b[0m\u001b[0minterger\u001b[0m\u001b[0;34m(\u001b[0m\u001b[0;36m0\u001b[0m\u001b[0;34m,\u001b[0m \u001b[0;36m2\u001b[0m\u001b[0;34m)\u001b[0m\u001b[0;34m\u001b[0m\u001b[0;34m\u001b[0m\u001b[0m\n\u001b[0m\u001b[1;32m     12\u001b[0m       \u001b[0mx\u001b[0m \u001b[0;34m=\u001b[0m \u001b[0mnp\u001b[0m\u001b[0;34m.\u001b[0m\u001b[0marray\u001b[0m\u001b[0;34m(\u001b[0m\u001b[0mrnd\u001b[0m\u001b[0;34m.\u001b[0m\u001b[0mnormal\u001b[0m\u001b[0;34m(\u001b[0m\u001b[0mloc\u001b[0m\u001b[0;34m=\u001b[0m\u001b[0;36m0.0\u001b[0m\u001b[0;34m,\u001b[0m \u001b[0mscale\u001b[0m\u001b[0;34m=\u001b[0m\u001b[0;36m0.2\u001b[0m\u001b[0;34m,\u001b[0m \u001b[0msize\u001b[0m\u001b[0;34m=\u001b[0m\u001b[0;36m2\u001b[0m\u001b[0;34m)\u001b[0m\u001b[0;34m)\u001b[0m \u001b[0;34m+\u001b[0m \u001b[0mC\u001b[0m\u001b[0;34m[\u001b[0m\u001b[0mj\u001b[0m\u001b[0;34m]\u001b[0m\u001b[0;34m\u001b[0m\u001b[0;34m\u001b[0m\u001b[0m\n\u001b[1;32m     13\u001b[0m       \u001b[0mX\u001b[0m\u001b[0;34m.\u001b[0m\u001b[0mappend\u001b[0m\u001b[0;34m(\u001b[0m\u001b[0mx\u001b[0m\u001b[0;34m)\u001b[0m\u001b[0;34m\u001b[0m\u001b[0;34m\u001b[0m\u001b[0m\n",
            "\u001b[0;31mAttributeError\u001b[0m: 'numpy.random._generator.Generator' object has no attribute 'interger'"
          ]
        }
      ],
      "source": [
        "nSamples = 150\n",
        "nDim = 2\n",
        "# N =\n",
        "X_tr, y_tr, labels = prepare_data(N)"
      ]
    },
    {
      "cell_type": "markdown",
      "metadata": {
        "id": "0xQ1O2CCfdM-"
      },
      "source": [
        "[7] 퍼셉트론 객체 생성 및 학습"
      ]
    },
    {
      "cell_type": "code",
      "execution_count": null,
      "metadata": {
        "id": "h1_LHy_3fdM-"
      },
      "outputs": [],
      "source": [
        "p = Perceptron(nDim, activation=step)\n",
        "p.fit(X_tr, y_tr, nSamples, epochs=1000, eta=0.01)"
      ]
    },
    {
      "cell_type": "markdown",
      "metadata": {
        "id": "LZl7jXrIfdM-"
      },
      "source": [
        "[8] 특징 공간 결정 영역 시각화"
      ]
    },
    {
      "cell_type": "code",
      "execution_count": null,
      "metadata": {
        "id": "vxUx_Vn0fdM_"
      },
      "outputs": [],
      "source": [
        "visualize(p, X_tr, y_tr,\n",
        "          multi_class=False,\n",
        "          class_id=labels,\n",
        "          labels=[1, 0],\n",
        "          colors=['magenta', 'blue'],\n",
        "          xlabel='petal length',\n",
        "          ylabel='petal width',\n",
        "          legend_loc='upper left')"
      ]
    }
  ],
  "metadata": {
    "kernelspec": {
      "display_name": "Python 3 (ipykernel)",
      "language": "python",
      "name": "python3"
    },
    "language_info": {
      "codemirror_mode": {
        "name": "ipython",
        "version": 3
      },
      "file_extension": ".py",
      "mimetype": "text/x-python",
      "name": "python",
      "nbconvert_exporter": "python",
      "pygments_lexer": "ipython3",
      "version": "3.9.16"
    },
    "colab": {
      "provenance": [],
      "include_colab_link": true
    }
  },
  "nbformat": 4,
  "nbformat_minor": 0
}