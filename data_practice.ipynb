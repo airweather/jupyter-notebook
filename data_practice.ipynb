{
  "nbformat": 4,
  "nbformat_minor": 0,
  "metadata": {
    "colab": {
      "provenance": [],
      "authorship_tag": "ABX9TyOjFGnEYT4xMUzwV1x2QuYi",
      "include_colab_link": true
    },
    "kernelspec": {
      "name": "python3",
      "display_name": "Python 3"
    },
    "language_info": {
      "name": "python"
    }
  },
  "cells": [
    {
      "cell_type": "markdown",
      "metadata": {
        "id": "view-in-github",
        "colab_type": "text"
      },
      "source": [
        "<a href=\"https://colab.research.google.com/github/airweather/jupyter-notebook/blob/main/data_practice.ipynb\" target=\"_parent\"><img src=\"https://colab.research.google.com/assets/colab-badge.svg\" alt=\"Open In Colab\"/></a>"
      ]
    },
    {
      "cell_type": "code",
      "execution_count": null,
      "metadata": {
        "id": "Sb_hjFO3StN6"
      },
      "outputs": [],
      "source": [
        "import matplotlib.pyplot as plt\n",
        "%matplotlib inline\n",
        "import seaborn as sns\n",
        "sns.set()"
      ]
    },
    {
      "cell_type": "code",
      "source": [
        "# bar chart\n",
        "def bar_chart(feature):\n",
        "    smoking = train[train['smoking']==1][feature].value_counts()\n",
        "    nonSmoking = train[train['smoking']==0][feature].value_counts()\n",
        "    df = pd.DataFrame([smoking, nonSmoking])\n",
        "    df.index = ['smoking', 'nonSmoking']\n",
        "    df.plot(kind='bar', stacked=True, figsize=(10, 5))"
      ],
      "metadata": {
        "id": "lxntYZN7S5-w"
      },
      "execution_count": null,
      "outputs": []
    },
    {
      "cell_type": "code",
      "source": [
        "# plot\n",
        "def plot_age_distribution(data, x_col, hue_col, title):\n",
        "    sns.set(style=\"whitegrid\")\n",
        "    plt.figure(figsize=(10, 6))\n",
        "    sns.countplot(x=x_col, hue=hue_col, data=data)\n",
        "    plt.title(title)\n",
        "    plt.xlabel(x_col)\n",
        "    plt.ylabel(\"Count\")\n",
        "    plt.show()\n",
        "\n",
        "# plot_age_distribution(train, x_col='weight(kg)', hue_col='smoking', title='Age Distribution by Smoking')\n",
        "\n"
      ],
      "metadata": {
        "id": "y5wbiViqS9cv"
      },
      "execution_count": null,
      "outputs": []
    },
    {
      "cell_type": "code",
      "source": [
        "def plot_trend(data, x_col, title, hue_col='smoking'):\n",
        "    sns.set(style=\"whitegrid\")\n",
        "    plt.figure(figsize=(10, 6))\n",
        "\n",
        "    count_data = data.groupby([x_col, hue_col]).size().reset_index(name='count')\n",
        "\n",
        "    sns.lineplot(x=x_col, y='count', hue=hue_col, data=count_data)\n",
        "    plt.title(title)\n",
        "    plt.xlabel(x_col)\n",
        "    plt.ylabel(\"Count\")\n",
        "    plt.show()\n",
        "\n",
        "# 'age'에 따른 'smoking'의 추이를 시각화\n",
        "# plot_trend(train, x_col='age', title='Age Trend by Smoking')"
      ],
      "metadata": {
        "id": "Bz6GVnS9TKYW"
      },
      "execution_count": null,
      "outputs": []
    },
    {
      "cell_type": "code",
      "source": [
        "# x_col, y_col plot scatter\n",
        "def plot_scatter(data, x_col, y_col, title, hue_col='smoking'):\n",
        "    sns.set(style=\"whitegrid\")\n",
        "    plt.figure(figsize=(10, 6))\n",
        "\n",
        "    sns.scatterplot(x=x_col, y=y_col, hue=hue_col, data=data)\n",
        "    plt.title(title)\n",
        "    plt.xlabel(x_col)\n",
        "    plt.ylabel(y_col)\n",
        "    plt.show()\n",
        "\n",
        "\n",
        "# plot_scatter(train, x_col='age', y_col='weight(kg)', title='Scatter Plot of Age vs. Weight by Smoking')\n"
      ],
      "metadata": {
        "id": "MI09wA9nTOMd"
      },
      "execution_count": null,
      "outputs": []
    },
    {
      "cell_type": "code",
      "source": [
        "# 산포도\n",
        "def plot_heatmap(data, x_col, title):\n",
        "    plt.figure(figsize=(12, 8))\n",
        "    correlation_matrix = data.corr()\n",
        "    sns.heatmap(correlation_matrix, annot=True, cmap='coolwarm')\n",
        "    plt.title(title)\n",
        "    plt.show()"
      ],
      "metadata": {
        "id": "wlfz4RkgTWkZ"
      },
      "execution_count": null,
      "outputs": []
    }
  ]
}